#1
def shiftLeft(source,k):

    i = 0
    for i in range(k):
        while i < len(source)-1:
            source[i] = source[i+1]
            i += 1
        source[-1] = 0

    print(source)
source=[10,20,30,40,50,60]

shiftLeft(source,3)


#2
def rotateLeft(source,k):

    for i in range(k):
        temp = source[0]
        for i in range(len(source)-1):
            source[i] = source[i+1]
        source[len(source)-1] = temp
    
    print(source)

source = [10,20,30,40,50,60]

rotateLeft(source,7)


#3
def remove(source,size,idx):

    i = idx
    while i < len(source)-1:
        source[i] = source[i+1]
        i += 1
        size -= 1
    source[-1] = 0
    print(source)

source=[10,20,30,40,50,0,0]

remove(source,5,3)


#4
def removeAll(source,size,element):

    source2 = [0]*len(source)
    j = 0

    for i in range(len(source)):
        if source[i] != element:
            source2[j] = source[i]
            j += 1

    print(source2)

source=[10,2,30,2,50,2,2,0,0]

removeAll(source,7,2)


#5
def split(arr):
    
    flag = False
    lsum = 0
    i = 0
    
    while i < len(arr):
        lsum += arr[i]
        k = i + 1
        
        rsum = 0
        while k<len(arr):
            rsum += arr[k]
            k+=1

        if lsum == rsum:
            flag = True

        i += 1


    print(flag)

arr = [10, 3, 1, 2, 10]

split(arr)


#6
def series(n):

    arr = [0]*(n*n)
    idx = 0
    i = 1
    
    while i< n+1:
        tarr = [0]*n
        for k in range(i+1):
            tarr[-k] = k
        i += 1
    
        ind = 0
        while ind<n:
            arr[idx] = tarr[ind]
            idx += 1
            ind += 1

    print(arr)

series(4)


#7
def bcount(arr):

    maxx = 0
    ind = 0
    for ind in range(len(arr)):
        count = 1
        j = ind + 1

        while j < len(arr):
            if arr[j] == arr[ind]:
                count += 1
            else:
                break

            if count > maxx:
                maxx = count
            j += 1
        ind = j

    print(maxx)


arr = [1,1,2, 2, 1,1,1,1]

bcount(arr)


#8
def repetition(arr):

    nums = [] 
    cnum = [] 

    for i in arr:
        count = 0 #count
        for j in arr:
            if i == j:
                count += 1

        if count > 1: 
            if i not in nums: 
                nums += [i]
                cnum += [count]
    flag = False

    if len(cnum) > 0:  
        temp = []
        for i in cnum:
            if i in temp:
                flag = True
                break  
            else:
                temp += [i]

    print(flag)

arr = [4,5,6,6,4,3,6,4]

repetition(arr)


# circular arrays
# 1
def palindrome(arr, start, size):

    arr1 = [0]*size
    i = start
    k = 0
    
    while k < size:
        arr1[k] = arr[i]
        k += 1
        i = (i+1)%len(arr)
    
    revarr = arr1[::-1]
    
    if arr1 == revarr:
        print(True)
    else:
        print(False)

arr = [20, 10, 0, 0, 0, 10, 20, 30]

palindrome(arr, 5, 5)


#2
def intersection(arr1,start1,size1,arr2,start2,size2):
    
    larr1 = [0]*size1
    larr2 = [0]*size2
    i1 = start1
    i2 = start2
    k = 0
    x = 0
   
    while k < size1:
        larr1[k] = arr1[i1]
        k += 1
        i1 = (i1+1)%len(arr1)

    while x < size2:
        larr2[x] = arr2[i2]
        x += 1
        i2 = (i2+1)%len(arr2)
   # print(larr1,larr2)

    carr = []
    ar1 = 0
    ar2 = 0
    '''while ar1<size1:
        while ar2<size2:
            if larr1[ar1] == larr2[ar2]:
                carr += larr1[ar1]'''

    for elm1 in larr1:
        for elm2 in larr2:
            if elm1 == elm2:
                carr += [elm1]
    print(carr)

arr1 = [40,50,0,0,0,10,20,30]
arr2 = [10,20,5,0,0,0,0,0,5,40,15,25]

intersection(arr1,5,5,arr2,8,7)


#3
import random

def remove(idx):
    i = idx
    while i < len(arr)-1:
        arr[i] = arr[i+1]
        i += 1

def musChair(arr):

    while len(arr)>1:
        if random.randint(0,3) == 1:
            print('music stopped')
            arr.remove(arr[len(arr)//2])
            print('remaining',arr)

        else:
            print('music continue')
        temp = arr[len(arr) - 1]
        i = len(arr) - 1
        while (i >= 1):
            arr[i] = arr[i - 1]
            i = i - 1
        arr[0] = temp


    print(arr[0],'won the game')


arr = ['a','b','c','d','e','f','g']
musChair(arr)
